{
 "cells": [
  {
   "cell_type": "markdown",
   "id": "4194e34a",
   "metadata": {},
   "source": [
    "## Exercise 1"
   ]
  },
  {
   "cell_type": "markdown",
   "id": "5c5a3621",
   "metadata": {},
   "source": [
    "Write a program that generates a random number, $x$, between 1 and 50, a random number y between 2 and 5, and computes $x^y$."
   ]
  },
  {
   "cell_type": "markdown",
   "id": "755cabc0",
   "metadata": {},
   "source": [
    "## Answer"
   ]
  },
  {
   "cell_type": "code",
   "execution_count": null,
   "id": "c210f029",
   "metadata": {},
   "outputs": [],
   "source": []
  },
  {
   "cell_type": "markdown",
   "id": "5854012d",
   "metadata": {},
   "source": [
    "## Exercise 2"
   ]
  },
  {
   "cell_type": "markdown",
   "id": "56b6b00e",
   "metadata": {},
   "source": [
    "Write a function called _sumDigits_ that for a given 4-digit integer $num$  returns its sum of the digits."
   ]
  },
  {
   "cell_type": "markdown",
   "id": "06ad4fe9",
   "metadata": {},
   "source": [
    "## Answer"
   ]
  },
  {
   "cell_type": "code",
   "execution_count": null,
   "id": "9fe14a36",
   "metadata": {},
   "outputs": [],
   "source": []
  },
  {
   "cell_type": "markdown",
   "id": "44bae03a",
   "metadata": {},
   "source": [
    "## Exercise 3"
   ]
  },
  {
   "cell_type": "markdown",
   "id": "b15e85e3",
   "metadata": {},
   "source": [
    "Write a function that asks the user to enter a list of integers. Do the following:\n",
    "- Print the total number of items in the list.\n",
    "- Print the last item in the list.\n",
    "- Print the list in reverse order.\n",
    "- Print Yes if the list contains a 5 and No otherwise.\n",
    "- Print the number of fives in the list.\n",
    "- Remove the first and last items from the list, sort the remaining items, and print the result.\n",
    "- Print how many integers in the list are less than 5."
   ]
  },
  {
   "cell_type": "markdown",
   "id": "fecdf701",
   "metadata": {},
   "source": [
    "## Answer"
   ]
  },
  {
   "cell_type": "code",
   "execution_count": null,
   "id": "45352887",
   "metadata": {},
   "outputs": [],
   "source": []
  },
  {
   "cell_type": "markdown",
   "id": "a24d6ea4",
   "metadata": {},
   "source": [
    "## Exercise 4"
   ]
  },
  {
   "cell_type": "markdown",
   "id": "45032094",
   "metadata": {},
   "source": [
    "Write a program that asks the user to enter a weight in kilograms. The program should convert it to pounds, printing the answer rounded to the nearest tenth of a pound."
   ]
  },
  {
   "cell_type": "markdown",
   "id": "fc366956",
   "metadata": {},
   "source": [
    "## Answer"
   ]
  },
  {
   "cell_type": "markdown",
   "id": "d1555fe9",
   "metadata": {},
   "source": []
  },
  {
   "cell_type": "markdown",
   "id": "893f1f86",
   "metadata": {},
   "source": [
    "## Exercise 5"
   ]
  },
  {
   "cell_type": "markdown",
   "id": "48df37db",
   "metadata": {},
   "source": [
    "Generate a random number between 1 and 10. Ask the user to guess the number and print a message based on whether they get it right or not."
   ]
  },
  {
   "cell_type": "code",
   "execution_count": null,
   "id": "c727dc25",
   "metadata": {},
   "outputs": [],
   "source": []
  }
 ],
 "metadata": {
  "kernelspec": {
   "display_name": "Python 3 (ipykernel)",
   "language": "python",
   "name": "python3"
  },
  "language_info": {
   "codemirror_mode": {
    "name": "ipython",
    "version": 3
   },
   "file_extension": ".py",
   "mimetype": "text/x-python",
   "name": "python",
   "nbconvert_exporter": "python",
   "pygments_lexer": "ipython3",
   "version": "3.9.7"
  }
 },
 "nbformat": 4,
 "nbformat_minor": 5
}
