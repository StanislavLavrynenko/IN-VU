{
 "cells": [
  {
   "cell_type": "code",
   "execution_count": null,
   "metadata": {},
   "outputs": [],
   "source": [
    "def reversed(tuple1):\n",
    "    #Write a function that reverse the tuple.\n",
    "    tuple1_list = list(tuple1)\n",
    "    tuple1_list.reverse()\n",
    "    tuple1 = tuple(tuple1_list)\n",
    "    return tuple1\n",
    "\n",
    "tuple1 = input('Put down your tuple:',)\n",
    "print(reversed(tuple1))"
   ]
  }
 ],
 "metadata": {
  "language_info": {
   "name": "python"
  },
  "orig_nbformat": 4
 },
 "nbformat": 4,
 "nbformat_minor": 2
}
