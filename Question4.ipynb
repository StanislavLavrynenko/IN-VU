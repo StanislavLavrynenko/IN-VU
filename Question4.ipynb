{
 "cells": [
  {
   "cell_type": "code",
   "execution_count": null,
   "metadata": {},
   "outputs": [],
   "source": [
    "import math\n",
    "def area(x):\n",
    "    #Write a Python program which accepts the radius of a circle from the user and compute the area.\n",
    "\n",
    "    S = math.pi * x**2\n",
    "    return S\n",
    "r = float(input('Введіть радіус кола: ', ))\n",
    "print('Площа кола = ', area(r))"
   ]
  }
 ],
 "metadata": {
  "interpreter": {
   "hash": "c232a48baaad184205e3335a45b3018598be08e1fe8e2e574e860c5544034994"
  },
  "kernelspec": {
   "display_name": "Python 3.9.13 64-bit (windows store)",
   "language": "python",
   "name": "python3"
  },
  "language_info": {
   "name": "python",
   "version": "3.9.13"
  },
  "orig_nbformat": 4
 },
 "nbformat": 4,
 "nbformat_minor": 2
}
