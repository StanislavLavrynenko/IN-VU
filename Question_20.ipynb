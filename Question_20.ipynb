{
 "cells": [
  {
   "cell_type": "code",
   "execution_count": 4,
   "id": "9ebf9196",
   "metadata": {},
   "outputs": [
    {
     "data": {
      "text/plain": [
       "['jnmk', 'jbgchvbmnm', ' ', 'ljn m']"
      ]
     },
     "execution_count": 4,
     "metadata": {},
     "output_type": "execute_result"
    }
   ],
   "source": [
    "def func(list_=[]):\n",
    "    \"\"\"Write a function that removes empty strings from the list of strings.\"\"\"\n",
    "    for index_, element in enumerate(list_):\n",
    "        if element == \"\":\n",
    "            list_.pop(index_)\n",
    "    return list_\n",
    "func([\"0\", \"\", \"hello\", \" \", \"\", \"hi\"])"
   ]
  },
  {
   "cell_type": "code",
   "execution_count": null,
   "id": "e9cafe47",
   "metadata": {},
   "outputs": [],
   "source": []
  }
 ],
 "metadata": {
  "kernelspec": {
   "display_name": "Python 3 (ipykernel)",
   "language": "python",
   "name": "python3"
  },
  "language_info": {
   "codemirror_mode": {
    "name": "ipython",
    "version": 3
   },
   "file_extension": ".py",
   "mimetype": "text/x-python",
   "name": "python",
   "nbconvert_exporter": "python",
   "pygments_lexer": "ipython3",
   "version": "3.9.7"
  }
 },
 "nbformat": 4,
 "nbformat_minor": 5
}
