{
 "cells": [
  {
   "cell_type": "code",
   "execution_count": 6,
   "id": "9a450083",
   "metadata": {},
   "outputs": [],
   "source": [
    "def tip_calc():\n",
    "    \"\"\"A lot of cell phones have tip calculators.\n",
    "    Write one. Ask the user for the price of the meal and the percent tip they want to leave.\n",
    "    Then print both the tip amount and the total bill with the tip included.\"\"\"\n",
    "    price = tip_percent = 0\n",
    "    while True:\n",
    "        try:\n",
    "            price, tip_percent = (int(input(\"Enter the price : \").strip()),\n",
    "                                  int(input(\"Enter the percent tip : \").strip(\" %\")))\n",
    "            if price <= 0 or tip_percent < 0:\n",
    "                raise ZeroDivisionError\n",
    "        except ZeroDivisionError:\n",
    "            print(\"The price and the percent tip must not be less than zero!\")\n",
    "        except:\n",
    "            print(\"The price and the percent tip must be digit!\")\n",
    "        else:\n",
    "            break\n",
    "    print(f\"The tip amount : {round(price * tip_percent / 100, 2)}\\n\" + \n",
    "          f\"The total bill with the tip : {round(price * (1 + tip_percent / 100), 2)}\")\n",
    "            "
   ]
  },
  {
   "cell_type": "code",
   "execution_count": 8,
   "id": "53347ead",
   "metadata": {},
   "outputs": [
    {
     "name": "stdout",
     "output_type": "stream",
     "text": [
      "Enter the price : 30\n",
      "Enter the percent tip : 400\n",
      "The tip amount : 120.0\n",
      "The total bill with the tip : 150.0\n"
     ]
    }
   ],
   "source": [
    "tip_calc()"
   ]
  }
 ],
 "metadata": {
  "kernelspec": {
   "display_name": "Python 3 (ipykernel)",
   "language": "python",
   "name": "python3"
  },
  "language_info": {
   "codemirror_mode": {
    "name": "ipython",
    "version": 3
   },
   "file_extension": ".py",
   "mimetype": "text/x-python",
   "name": "python",
   "nbconvert_exporter": "python",
   "pygments_lexer": "ipython3",
   "version": "3.9.12"
  }
 },
 "nbformat": 4,
 "nbformat_minor": 5
}
