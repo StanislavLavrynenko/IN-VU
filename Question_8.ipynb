{
 "cells": [
  {
   "cell_type": "code",
   "execution_count": 2,
   "id": "bdfa8f1c",
   "metadata": {},
   "outputs": [
    {
     "name": "stdout",
     "output_type": "stream",
     "text": [
      "Enter the day of birth: 12\n",
      "Enter the month of birth(only numbers): 9\n",
      "Enter the year of birth: 22\n",
      "730506\n"
     ]
    },
    {
     "data": {
      "text/plain": [
       "730506"
      ]
     },
     "execution_count": 2,
     "metadata": {},
     "output_type": "execute_result"
    }
   ],
   "source": [
    "def func():\n",
    "    \"\"\"Write a program that asks the user to enter three numbers:\n",
    "    the day of birth, the month of birth and the year of birth (use three separate input statements).\n",
    "    Print out the total number of days from birth.\"\"\"\n",
    "    import time\n",
    "    month_list = [\"Jan\", \"Feb\", \"Mar\", \"Apr\", \"May\", \"Jun\", \"Jul\", \"Aug\", \"Sep\",\n",
    "                  \"Oct\", \"Nov\", \"Dec\"]\n",
    "    months_days = {\"Jan\": 31, \"Feb\": 28, \"Mar\": 31, \"Apr\": 30, \"May\": 31, \"Jun\": 30, \"Jul\": 31, \"Aug\": 31, \"Sep\": 30,\n",
    "                   \"Oct\": 31, \"Nov\": 30, \"Dec\": 31}\n",
    "    days = int(input(\"Enter the day of birth: \"))\n",
    "    month = int(input(\"Enter the month of birth(only numbers): \"))\n",
    "    year = int(input(\"Enter the year of birth: \"))\n",
    "    now = time.ctime(time.time()).split()\n",
    "    days_birth = 0\n",
    "    if int(now[-1]) - year > 1:\n",
    "        days_birth += (int(now[-1]) - year) // 4 + (int(now[-1]) - year - 1) * 365\n",
    "    for input_data in range(month, 12):\n",
    "        days_birth += months_days[month_list[input_data]]\n",
    "    for additional_data in range(month_list.index(now[1])):\n",
    "        days_birth += months_days[month_list[additional_data]]\n",
    "    days_birth += months_days[month_list[month - 1]] - days + int(now[2])\n",
    "    print(f\"It's how many days have passed since your birthday: [d]\"days_birth)\n",
    "    return days_birth\n",
    "\n",
    "\n",
    "func()\n",
    "    "
   ]
  },
  {
   "cell_type": "code",
   "execution_count": null,
   "id": "71e1e17a",
   "metadata": {},
   "outputs": [],
   "source": []
  }
 ],
 "metadata": {
  "kernelspec": {
   "display_name": "Python 3 (ipykernel)",
   "language": "python",
   "name": "python3"
  },
  "language_info": {
   "codemirror_mode": {
    "name": "ipython",
    "version": 3
   },
   "file_extension": ".py",
   "mimetype": "text/x-python",
   "name": "python",
   "nbconvert_exporter": "python",
   "pygments_lexer": "ipython3",
   "version": "3.9.7"
  }
 },
 "nbformat": 4,
 "nbformat_minor": 5
}
