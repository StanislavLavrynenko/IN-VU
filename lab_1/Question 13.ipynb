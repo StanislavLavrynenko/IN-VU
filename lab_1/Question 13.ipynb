{
 "cells": [
  {
   "cell_type": "code",
   "execution_count": 4,
   "id": "0675c16b",
   "metadata": {},
   "outputs": [
    {
     "name": "stdout",
     "output_type": "stream",
     "text": [
      "Enter the length in centimeters : -25\n"
     ]
    },
    {
     "data": {
      "text/plain": [
       "'The number must be positive'"
      ]
     },
     "execution_count": 4,
     "metadata": {},
     "output_type": "execute_result"
    }
   ],
   "source": [
    "def inches(lenght):\n",
    "    \"\"\"Write a program that asks the user to enter a length in centimeters.\n",
    "    If the user enters a negative length, the program should tell the user that the entry is invalid.\n",
    "    Otherwise, the program should convert the length to inches and print out the result.\n",
    "    There are 2.54 centimeters in an inch.\"\"\"\n",
    "    if lenght < 0:\n",
    "        return \"The number must be positive\"\n",
    "    return lenght * 2.54\n",
    "\n",
    "\n",
    "inches(int(input(\"Enter the length in centimeters : \")))"
   ]
  },
  {
   "cell_type": "code",
   "execution_count": null,
   "id": "b77c72a2",
   "metadata": {},
   "outputs": [],
   "source": []
  }
 ],
 "metadata": {
  "kernelspec": {
   "display_name": "Python 3 (ipykernel)",
   "language": "python",
   "name": "python3"
  },
  "language_info": {
   "codemirror_mode": {
    "name": "ipython",
    "version": 3
   },
   "file_extension": ".py",
   "mimetype": "text/x-python",
   "name": "python",
   "nbconvert_exporter": "python",
   "pygments_lexer": "ipython3",
   "version": "3.9.7"
  }
 },
 "nbformat": 4,
 "nbformat_minor": 5
}
