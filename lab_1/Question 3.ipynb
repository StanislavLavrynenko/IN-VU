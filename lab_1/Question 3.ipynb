{
 "cells": [
  {
   "cell_type": "code",
   "execution_count": 5,
   "id": "427d7308",
   "metadata": {},
   "outputs": [
    {
     "name": "stdout",
     "output_type": "stream",
     "text": [
      "3 4 6 9 7\n",
      "The last item in the list 7\n",
      "The letter is in reverse order [7, 9, 6, 4, 3]\n",
      "True\n",
      "The number of fives in the list =  0\n",
      "List without first and last element and sorted =  [4, 6, 9]\n",
      "The number of integers less than 5 =  1\n"
     ]
    }
   ],
   "source": [
    "def funcs(listt):\n",
    "    \n",
    "    '''Write a function that asks the user to enter a list of integers. Do the following:\n",
    "Print the last item in the list.\n",
    "Print the list in reverse order.\n",
    "Print Yes if the list contains a 5 and No otherwise.\n",
    "Print the number of fives in the list.\n",
    "Remove the first and last items from the list, sort the remaining items, and print the result.\n",
    "Print how many integers in the list are less than 5.'''\n",
    "    \n",
    "    print('The last item in the list', listt[-1])\n",
    "    listt.reverse()\n",
    "    print('The letter is in reverse order', listt)\n",
    "    if len(listt) == 5:\n",
    "        print(True)\n",
    "    else:\n",
    "        print(False)\n",
    "\n",
    "    five = listt.count(5)\n",
    "    print('The number of fives in the list = ', five)\n",
    "    \n",
    "    listt.pop(-1)\n",
    "    listt.pop(0)\n",
    "    listt.sort()\n",
    "    print('List without first and last element and sorted = ', listt)\n",
    "    counter = 0\n",
    "    for i in(listt):\n",
    "        if i < 5 :\n",
    "            counter += 1\n",
    "    print('The number of integers less than 5 = ', counter)\n",
    "    \n",
    "listt = [int(i) for i in input().split()]\n",
    "funcs(listt)"
   ]
  },
  {
   "cell_type": "code",
   "execution_count": null,
   "id": "ebc49b37",
   "metadata": {},
   "outputs": [],
   "source": []
  }
 ],
 "metadata": {
  "kernelspec": {
   "display_name": "Python 3 (ipykernel)",
   "language": "python",
   "name": "python3"
  },
  "language_info": {
   "codemirror_mode": {
    "name": "ipython",
    "version": 3
   },
   "file_extension": ".py",
   "mimetype": "text/x-python",
   "name": "python",
   "nbconvert_exporter": "python",
   "pygments_lexer": "ipython3",
   "version": "3.9.7"
  }
 },
 "nbformat": 4,
 "nbformat_minor": 5
}
