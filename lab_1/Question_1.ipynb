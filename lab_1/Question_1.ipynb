{
 "cells": [
  {
   "cell_type": "code",
   "execution_count": 19,
   "id": "caccd4fc",
   "metadata": {},
   "outputs": [
    {
     "name": "stdout",
     "output_type": "stream",
     "text": [
      "Enter how you want to display the value:\n",
      "     ・Only integer - 0\n",
      "     ・With the floating point number - 1\n",
      "     ・Both - 2\n",
      "- 2\n"
     ]
    },
    {
     "data": {
      "text/plain": [
       "'3, 3.625'"
      ]
     },
     "execution_count": 19,
     "metadata": {},
     "output_type": "execute_result"
    }
   ],
   "source": [
    "def transformation(integer=3, numerator=5, denominator=8):\n",
    "    \"\"\"Write a print statement to print the mixed fraction 3 5/8 as a floating point number and as an integer.\"\"\"\n",
    "    var_ = int(input(\"Enter how you want to display the value:\\n \\\n",
    "    ・Only integer - 0\\n \\\n",
    "    ・With the floating point number - 1\\n \\\n",
    "    ・Both - 2\\n- \"))\n",
    "    list_ = [integer, integer + numerator/denominator, f\"{integer}, {integer + numerator/denominator}\"]\n",
    "    return list_[var_]\n",
    "\n",
    "transformation()"
   ]
  },
  {
   "cell_type": "code",
   "execution_count": null,
   "id": "5e53582e",
   "metadata": {},
   "outputs": [],
   "source": []
  }
 ],
 "metadata": {
  "kernelspec": {
   "display_name": "Python 3 (ipykernel)",
   "language": "python",
   "name": "python3"
  },
  "language_info": {
   "codemirror_mode": {
    "name": "ipython",
    "version": 3
   },
   "file_extension": ".py",
   "mimetype": "text/x-python",
   "name": "python",
   "nbconvert_exporter": "python",
   "pygments_lexer": "ipython3",
   "version": "3.9.7"
  }
 },
 "nbformat": 4,
 "nbformat_minor": 5
}
