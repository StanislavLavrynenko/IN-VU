{
  "nbformat": 4,
  "nbformat_minor": 0,
  "metadata": {
    "colab": {
      "provenance": []
    },
    "kernelspec": {
      "name": "python3",
      "display_name": "Python 3"
    },
    "language_info": {
      "name": "python"
    }
  },
  "cells": [
    {
      "cell_type": "code",
      "execution_count": 16,
      "metadata": {
        "colab": {
          "base_uri": "https://localhost:8080/",
          "height": 53
        },
        "id": "0UTuxr1vppWB",
        "outputId": "d15852fc-5d9d-45fc-9062-214ac212c23e"
      },
      "outputs": [
        {
          "name": "stdout",
          "output_type": "stream",
          "text": [
            "Enter a power: 10\n"
          ]
        },
        {
          "output_type": "execute_result",
          "data": {
            "text/plain": [
              "'The last two digits of 2 raised to that power: 24'"
            ],
            "application/vnd.google.colaboratory.intrinsic+json": {
              "type": "string"
            }
          },
          "metadata": {},
          "execution_count": 16
        }
      ],
      "source": [
        "def two_to_power():\n",
        "  '''Write a program that asks the user to enter a power. Then find the last two digits of 2 raised to that power.\n",
        "  '''\n",
        "  power = int(input('Enter a power: '))\n",
        "  return f'The last two digits of 2 raised to that power: {int(str(2**power)[-2:])}'\n",
        "\n",
        "two_to_power()"
      ]
    }
  ]
}