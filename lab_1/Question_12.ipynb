{
 "cells": [
  {
   "cell_type": "code",
   "execution_count": 2,
   "metadata": {},
   "outputs": [
    {
     "name": "stdout",
     "output_type": "stream",
     "text": [
      "You are sophomore!\n"
     ]
    }
   ],
   "source": [
    "def credit_name(credits_amount):\n",
    "\n",
    "    '''Write a program that asks the user how many credits they have taken.\n",
    "    If they have taken 23 or less, print that the student is a freshman. \n",
    "    If they have taken between 24 and 53, print that they are a sophomore.\n",
    "    The range for juniors is 54 to 83, and for seniors it is 84 and over.'''\n",
    "\n",
    "\n",
    "    if credits_amount <= 23:\n",
    "        return ('You are freshman!')\n",
    "    elif 24 <= credits_amount <= 53:\n",
    "        return ('You are sophomore!')\n",
    "    elif 54 <= credits_amount <= 83:\n",
    "        return ('You are junior!')\n",
    "    elif credits_amount >= 84:\n",
    "        return ('You are senior!')\n",
    "amount = int(input('How many credits have you taken? ', ))\n",
    "print(credit_name(amount))"
   ]
  }
 ],
 "metadata": {
  "interpreter": {
   "hash": "c232a48baaad184205e3335a45b3018598be08e1fe8e2e574e860c5544034994"
  },
  "kernelspec": {
   "display_name": "Python 3.9.13 64-bit (windows store)",
   "language": "python",
   "name": "python3"
  },
  "language_info": {
   "codemirror_mode": {
    "name": "ipython",
    "version": 3
   },
   "file_extension": ".py",
   "mimetype": "text/x-python",
   "name": "python",
   "nbconvert_exporter": "python",
   "pygments_lexer": "ipython3",
   "version": "3.9.13"
  },
  "orig_nbformat": 4
 },
 "nbformat": 4,
 "nbformat_minor": 2
}
