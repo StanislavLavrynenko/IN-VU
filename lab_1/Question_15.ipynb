{
 "cells": [
  {
   "cell_type": "code",
   "execution_count": 6,
   "id": "6a7a6a66",
   "metadata": {},
   "outputs": [],
   "source": [
    "def question_15():\n",
    "    \"\"\"Question 15\n",
    "A store charges  $ 12 per item if you buy less than 10 items.\n",
    "If you buy between 10 and 99 items, the cost is  $ 10 per item.\n",
    "If you buy 100 or more items, the cost is $7 per item.\n",
    "Write a program that asks the user how many items they are buying and prints the total cost.\"\"\"\n",
    "    count = int(input(\"Enter the number of items\"))\n",
    "    print(12 * count if count < 10 else 10 * count if count < 99 else 7 * count)"
   ]
  },
  {
   "cell_type": "code",
   "execution_count": 9,
   "id": "2fb571b1",
   "metadata": {},
   "outputs": [
    {
     "name": "stdout",
     "output_type": "stream",
     "text": [
      "Enter the number of items100\n",
      "700\n"
     ]
    }
   ],
   "source": [
    "question_15()"
   ]
  }
 ],
 "metadata": {
  "kernelspec": {
   "display_name": "Python 3 (ipykernel)",
   "language": "python",
   "name": "python3"
  },
  "language_info": {
   "codemirror_mode": {
    "name": "ipython",
    "version": 3
   },
   "file_extension": ".py",
   "mimetype": "text/x-python",
   "name": "python",
   "nbconvert_exporter": "python",
   "pygments_lexer": "ipython3",
   "version": "3.9.12"
  }
 },
 "nbformat": 4,
 "nbformat_minor": 5
}
