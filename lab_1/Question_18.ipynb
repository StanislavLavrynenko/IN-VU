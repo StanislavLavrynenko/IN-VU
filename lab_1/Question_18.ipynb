{
 "cells": [
  {
   "cell_type": "code",
   "execution_count": 1,
   "metadata": {},
   "outputs": [
    {
     "name": "stdout",
     "output_type": "stream",
     "text": [
      "(3, 10, 7, 5)\n"
     ]
    }
   ],
   "source": [
    "def reverse_tuple(tuple1):\n",
    "    '''Write a function that reverse the tuple.'''\n",
    "\n",
    "    reversed_tuple = tuple1[::-1]\n",
    "    return reversed_tuple\n",
    "\n",
    "tuple1 = (5,7,10,3)\n",
    "print(reverse_tuple(tuple1))"
   ]
  }
 ],
 "metadata": {
  "kernelspec": {
   "display_name": "Python 3.9.13 64-bit (microsoft store)",
   "language": "python",
   "name": "python3"
  },
  "language_info": {
   "codemirror_mode": {
    "name": "ipython",
    "version": 3
   },
   "file_extension": ".py",
   "mimetype": "text/x-python",
   "name": "python",
   "nbconvert_exporter": "python",
   "pygments_lexer": "ipython3",
   "version": "3.9.13"
  },
  "orig_nbformat": 4,
  "vscode": {
   "interpreter": {
    "hash": "c232a48baaad184205e3335a45b3018598be08e1fe8e2e574e860c5544034994"
   }
  }
 },
 "nbformat": 4,
 "nbformat_minor": 2
}
