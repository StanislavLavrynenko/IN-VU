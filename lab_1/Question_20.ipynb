{
 "cells": [
  {
   "cell_type": "code",
   "execution_count": 1,
   "id": "9ebf9196",
   "metadata": {},
   "outputs": [
    {
     "name": "stdout",
     "output_type": "stream",
     "text": [
      "['   ', 7, 'str']\n"
     ]
    }
   ],
   "source": [
    "def remove_empty_strings(list_1):\n",
    "    \"\"\"Write a function that removes empty strings from the list of strings.\"\"\"\n",
    "    while \"\" in list_1:\n",
    "        list_1.remove(\"\")\n",
    "\n",
    "\n",
    "list_ = [\"\", \"\", \"\", \"\", \"   \", 7, \"str\"]\n",
    "remove_empty_strings(list_)\n",
    "print(list_)"
   ]
  },
  {
   "cell_type": "code",
   "execution_count": null,
   "id": "e9cafe47",
   "metadata": {},
   "outputs": [],
   "source": []
  }
 ],
 "metadata": {
  "kernelspec": {
   "display_name": "Python 3 (ipykernel)",
   "language": "python",
   "name": "python3"
  },
  "language_info": {
   "codemirror_mode": {
    "name": "ipython",
    "version": 3
   },
   "file_extension": ".py",
   "mimetype": "text/x-python",
   "name": "python",
   "nbconvert_exporter": "python",
   "pygments_lexer": "ipython3",
   "version": "3.9.7"
  }
 },
 "nbformat": 4,
 "nbformat_minor": 5
}
