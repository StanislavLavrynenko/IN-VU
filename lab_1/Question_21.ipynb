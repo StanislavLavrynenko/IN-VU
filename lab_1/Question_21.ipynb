{
  "nbformat": 4,
  "nbformat_minor": 0,
  "metadata": {
    "colab": {
      "provenance": []
    },
    "kernelspec": {
      "name": "python3",
      "display_name": "Python 3"
    },
    "language_info": {
      "name": "python"
    }
  },
  "cells": [
    {
      "cell_type": "code",
      "execution_count": 17,
      "metadata": {
        "colab": {
          "base_uri": "https://localhost:8080/"
        },
        "id": "0UTuxr1vppWB",
        "outputId": "998d037c-2482-43b7-a34f-f996562aac20"
      },
      "outputs": [
        {
          "name": "stdout",
          "output_type": "stream",
          "text": [
            "Enter a string: abcaabbc\n"
          ]
        },
        {
          "output_type": "execute_result",
          "data": {
            "text/plain": [
              "3"
            ]
          },
          "metadata": {},
          "execution_count": 17
        }
      ],
      "source": [
        "def calculate_character():\n",
        "  '''Calculate number of distinct characters in a string using a for loop.\n",
        "  '''\n",
        "\n",
        "  str1 = input('Enter a string: ')\n",
        "  str2 = ''\n",
        "  for i in str1:\n",
        "    if i not in str2:\n",
        "      str2 += i\n",
        "  return len(str2)\n",
        "\n",
        "calculate_character()"
      ]
    }
  ]
}