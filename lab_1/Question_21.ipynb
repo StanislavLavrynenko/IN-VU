{
  "nbformat": 4,
  "nbformat_minor": 0,
  "metadata": {
    "colab": {
      "provenance": []
    },
    "kernelspec": {
      "name": "python3",
      "display_name": "Python 3"
    },
    "language_info": {
      "name": "python"
    }
  },
  "cells": [
    {
      "cell_type": "code",
      "execution_count": 16,
      "metadata": {
        "colab": {
          "base_uri": "https://localhost:8080/",
          "height": 53
        },
        "id": "0UTuxr1vppWB",
        "outputId": "d15852fc-5d9d-45fc-9062-214ac212c23e"
      },
      "outputs": [
        {
          "name": "stdout",
          "output_type": "stream",
          "text": [
            "Enter a power: 10\n"
          ]
        },
        {
          "output_type": "execute_result",
          "data": {
            "text/plain": [
              "'The last two digits of 2 raised to that power: 24'"
            ],
            "application/vnd.google.colaboratory.intrinsic+json": {
              "type": "string"
            }
          },
          "metadata": {},
          "execution_count": 16
        }
      ],
      "source": [
        "def calculate_character():\n",
        "  '''Calculate number of distinct characters in a string using a for loop.\n",
        "  '''\n",
        "\n",
        "  str1 = input('Enter a string: ')\n",
        "  str2 = ''\n",
        "  for i in str1:\n",
        "    if i not in str2:\n",
        "      str2 += i\n",
        "  return len(str2)\n",
        "\n",
        "calculate_character()"
      ]
    }
  ]
}