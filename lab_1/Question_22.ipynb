{
 "cells": [
  {
   "cell_type": "code",
   "execution_count": 3,
   "id": "5b8a5414",
   "metadata": {},
   "outputs": [
    {
     "name": "stdout",
     "output_type": "stream",
     "text": [
      "False\n",
      "True\n"
     ]
    }
   ],
   "source": [
    "def is_sorted(list_):\n",
    "    \"\"\"Write a function called is_sorted that is given a list\n",
    "    and returns True if the list is sorted and False otherwise.\"\"\"\n",
    "    new_list = list_.copy()\n",
    "    new_list.sort()\n",
    "    return new_list == list_\n",
    "\n",
    "print(is_sorted([1, 2, 1]))\n",
    "print(is_sorted(['apple', 'banana', 'cherry', 'orange']))"
   ]
  },
  {
   "cell_type": "code",
   "execution_count": null,
   "id": "2f8973dc",
   "metadata": {},
   "outputs": [],
   "source": []
  }
 ],
 "metadata": {
  "kernelspec": {
   "display_name": "Python 3 (ipykernel)",
   "language": "python",
   "name": "python3"
  },
  "language_info": {
   "codemirror_mode": {
    "name": "ipython",
    "version": 3
   },
   "file_extension": ".py",
   "mimetype": "text/x-python",
   "name": "python",
   "nbconvert_exporter": "python",
   "pygments_lexer": "ipython3",
   "version": "3.9.7"
  }
 },
 "nbformat": 4,
 "nbformat_minor": 5
}
