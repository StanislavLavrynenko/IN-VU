{
 "cells": [
  {
   "cell_type": "code",
   "execution_count": 2,
   "metadata": {},
   "outputs": [
    {
     "name": "stdout",
     "output_type": "stream",
     "text": [
      "Area of circle =  78.53981633974483\n"
     ]
    }
   ],
   "source": [
    "\n",
    "def area(x):\n",
    "    '''Write a Python program which accepts the radius of a circle from the user and compute the area.'''\n",
    "\n",
    "    from math import pi \n",
    "    S = pi * x**2\n",
    "    return S\n",
    "\n",
    "r = float(input('Write down radius: ', ))\n",
    "print('Area of circle = ', area(r))"
   ]
  }
 ],
 "metadata": {
  "interpreter": {
   "hash": "c232a48baaad184205e3335a45b3018598be08e1fe8e2e574e860c5544034994"
  },
  "kernelspec": {
   "display_name": "Python 3.9.13 64-bit (windows store)",
   "language": "python",
   "name": "python3"
  },
  "language_info": {
   "codemirror_mode": {
    "name": "ipython",
    "version": 3
   },
   "file_extension": ".py",
   "mimetype": "text/x-python",
   "name": "python",
   "nbconvert_exporter": "python",
   "pygments_lexer": "ipython3",
   "version": "3.9.13"
  },
  "orig_nbformat": 4
 },
 "nbformat": 4,
 "nbformat_minor": 2
}
