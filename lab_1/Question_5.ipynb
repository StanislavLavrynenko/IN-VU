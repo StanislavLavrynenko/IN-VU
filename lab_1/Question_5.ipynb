{
 "cells": [
  {
   "cell_type": "code",
   "execution_count": 4,
   "id": "d178dd78",
   "metadata": {},
   "outputs": [
    {
     "data": {
      "text/plain": [
       "'Prokopenko Denys'"
      ]
     },
     "execution_count": 4,
     "metadata": {},
     "output_type": "execute_result"
    }
   ],
   "source": [
    "def func(first_name, last_name):\n",
    "    \"\"\"Write a Python program which accepts the user's first and last name and print them\n",
    "    in reverse order with a space between them.\"\"\"\n",
    "    return f\"{last_name} {first_name}\"\n",
    "func(\"Denys\", \"Prokopenko\")\n",
    "    "
   ]
  },
  {
   "cell_type": "code",
   "execution_count": null,
   "id": "d7804bf8",
   "metadata": {},
   "outputs": [],
   "source": []
  }
 ],
 "metadata": {
  "kernelspec": {
   "display_name": "Python 3 (ipykernel)",
   "language": "python",
   "name": "python3"
  },
  "language_info": {
   "codemirror_mode": {
    "name": "ipython",
    "version": 3
   },
   "file_extension": ".py",
   "mimetype": "text/x-python",
   "name": "python",
   "nbconvert_exporter": "python",
   "pygments_lexer": "ipython3",
   "version": "3.9.7"
  }
 },
 "nbformat": 4,
 "nbformat_minor": 5
}
