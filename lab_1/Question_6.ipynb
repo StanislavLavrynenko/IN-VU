{
  "nbformat": 4,
  "nbformat_minor": 0,
  "metadata": {
    "colab": {
      "provenance": [],
      "collapsed_sections": []
    },
    "kernelspec": {
      "name": "python3",
      "display_name": "Python 3"
    },
    "language_info": {
      "name": "python"
    }
  },
  "cells": [
    {
      "cell_type": "code",
      "execution_count": 1,
      "metadata": {
        "colab": {
          "base_uri": "https://localhost:8080/"
        },
        "id": "jfC5vAqljIcO",
        "outputId": "2cc8b145-1eff-4213-9dff-c4d45a046393"
      },
      "outputs": [
        {
          "output_type": "execute_result",
          "data": {
            "text/plain": [
              "369"
            ]
          },
          "metadata": {},
          "execution_count": 1
        }
      ],
      "source": [
        "def func(n):\n",
        "  '''Write a Python program that accepts an integer (n) and computes the value of n+nn+nnn\n",
        "  '''\n",
        "  return n + n*11 + n*111\n",
        "\n",
        "func(3)"
      ]
    }
  ]
}