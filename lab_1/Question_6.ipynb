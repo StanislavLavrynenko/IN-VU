{
  "nbformat": 4,
  "nbformat_minor": 0,
  "metadata": {
    "colab": {
      "provenance": []
    },
    "kernelspec": {
      "name": "python3",
      "display_name": "Python 3"
    },
    "language_info": {
      "name": "python"
    }
  },
  "cells": [
    {
      "cell_type": "code",
      "execution_count": 3,
      "metadata": {
        "colab": {
          "base_uri": "https://localhost:8080/"
        },
        "id": "0UTuxr1vppWB",
        "outputId": "d7fd375f-4068-475c-f8b3-508dfed342b9"
      },
      "outputs": [
        {
          "output_type": "execute_result",
          "data": {
            "text/plain": [
              "123"
            ]
          },
          "metadata": {},
          "execution_count": 3
        }
      ],
      "source": [
        "def calculate(n):\n",
        "  '''Write a Python program that accepts an integer (n) and computes the value of n+nn+nnn\n",
        "  '''\n",
        "\n",
        "  return n + int(str(n)*2) + int(str(n)*3)\n",
        "\n",
        "calculate(10)"
      ]
    }
  ]
}