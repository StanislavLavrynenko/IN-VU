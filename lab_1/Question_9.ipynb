{
 "cells": [
  {
   "cell_type": "code",
   "execution_count": 7,
   "id": "13df3a2c",
   "metadata": {},
   "outputs": [],
   "source": [
    "def convert_angle():\n",
    "    \"\"\"Write a program that asks the user to enter an angle between -180° and 180°. \n",
    "    Using an expression with the modulo operator, \n",
    "    convert the angle to its equivalent between 0° and 360°.\n",
    "    \"\"\"\n",
    "    while True:\n",
    "        try:\n",
    "            angle = int(input(\"Enter an angle : \"))\n",
    "            if not -180 <= angle <= 180:\n",
    "                raise ZeroDivisionError\n",
    "        except ZeroDivisionError:\n",
    "            print(\"Angle must be between -180 and 180!\")\n",
    "        except:\n",
    "            print(\"Angle must be digit!\")\n",
    "        else:\n",
    "            break\n",
    "    return angle if angle >= 0 else 360 + angle"
   ]
  },
  {
   "cell_type": "code",
   "execution_count": 8,
   "id": "5d30d40f",
   "metadata": {},
   "outputs": [
    {
     "name": "stdout",
     "output_type": "stream",
     "text": [
      "Enter an angle : -170\n"
     ]
    },
    {
     "data": {
      "text/plain": [
       "190"
      ]
     },
     "execution_count": 8,
     "metadata": {},
     "output_type": "execute_result"
    }
   ],
   "source": [
    "convert_angle()\n"
   ]
  }
 ],
 "metadata": {
  "kernelspec": {
   "display_name": "Python 3 (ipykernel)",
   "language": "python",
   "name": "python3"
  },
  "language_info": {
   "codemirror_mode": {
    "name": "ipython",
    "version": 3
   },
   "file_extension": ".py",
   "mimetype": "text/x-python",
   "name": "python",
   "nbconvert_exporter": "python",
   "pygments_lexer": "ipython3",
   "version": "3.9.12"
  }
 },
 "nbformat": 4,
 "nbformat_minor": 5
}
