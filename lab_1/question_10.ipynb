{
 "cells": [
  {
   "cell_type": "code",
   "execution_count": 21,
   "id": "9876224f",
   "metadata": {},
   "outputs": [
    {
     "name": "stdout",
     "output_type": "stream",
     "text": [
      "3.32\n"
     ]
    }
   ],
   "source": [
    "import random\n",
    "def generator():\n",
    "    \"\"\"Write a program that generates a random decimal number \n",
    "       between 1 and 10 with two decimal places of accuracy.\"\"\" \n",
    "    a = 1\n",
    "    b = 10\n",
    "    print(round(random.uniform(a, b), 2))\n",
    "    \n",
    "generator()"
   ]
  },
  {
   "cell_type": "code",
   "execution_count": null,
   "id": "065d64ca",
   "metadata": {},
   "outputs": [],
   "source": []
  }
 ],
 "metadata": {
  "kernelspec": {
   "display_name": "Python 3",
   "language": "python",
   "name": "python3"
  },
  "language_info": {
   "codemirror_mode": {
    "name": "ipython",
    "version": 3
   },
   "file_extension": ".py",
   "mimetype": "text/x-python",
   "name": "python",
   "nbconvert_exporter": "python",
   "pygments_lexer": "ipython3",
   "version": "3.8.8"
  }
 },
 "nbformat": 4,
 "nbformat_minor": 5
}
