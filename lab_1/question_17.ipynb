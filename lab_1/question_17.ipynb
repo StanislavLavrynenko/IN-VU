{
 "cells": [
  {
   "cell_type": "code",
   "execution_count": 8,
   "id": "593e1a6c",
   "metadata": {},
   "outputs": [
    {
     "name": "stdout",
     "output_type": "stream",
     "text": [
      "original range:2022-09-01 00:00:00 2023-09-30 00:00:00\n",
      "total business days in range:281\n"
     ]
    }
   ],
   "source": [
    "from datetime import datetime, timedelta\n",
    "def calc():\n",
    "    \"\"\"Calculate number of business days between two dates using datetime module.\"\"\"\n",
    "    test_date1, test_date2 = datetime(2022, 9, 1), datetime(2023, 9, 30)\n",
    "\n",
    "    print(\"original range:\" + str(test_date1) + \" \" + str(test_date2))\n",
    "\n",
    "    dates = (test_date1 + timedelta(idx + 1)\n",
    "            for idx in range((test_date2 - test_date1).days))\n",
    "    res = sum(1 for day in dates if day.weekday() < 5)\n",
    "    print(\"total business days in range:\" + str(res))\n",
    "calc()"
   ]
  },
  {
   "cell_type": "code",
   "execution_count": null,
   "id": "6baaf06c",
   "metadata": {},
   "outputs": [],
   "source": []
  }
 ],
 "metadata": {
  "kernelspec": {
   "display_name": "Python 3",
   "language": "python",
   "name": "python3"
  },
  "language_info": {
   "codemirror_mode": {
    "name": "ipython",
    "version": 3
   },
   "file_extension": ".py",
   "mimetype": "text/x-python",
   "name": "python",
   "nbconvert_exporter": "python",
   "pygments_lexer": "ipython3",
   "version": "3.8.8"
  }
 },
 "nbformat": 4,
 "nbformat_minor": 5
}
