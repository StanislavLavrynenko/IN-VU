{
 "cells": [
  {
   "cell_type": "code",
   "execution_count": 13,
   "id": "c200c775",
   "metadata": {},
   "outputs": [
    {
     "name": "stdout",
     "output_type": "stream",
     "text": [
      "Temperature value in degree Celcius: 18.5\n",
      "The degree 18.50 Celcius is equal to: 65.30 Fahrenheit\n"
     ]
    }
   ],
   "source": [
    "def convertCelcius():\n",
    "    \"\"\"Convert Between °C and °F. Convert temperatures from one system to another.\n",
    "-Create a print statement to convert 18.5° C to °F.\n",
    "-Create a print statement to convert -4° F to °C.\"\"\"\n",
    "    celcius_1 = float(input(\"Temperature value in degree Celcius: \"))\n",
    "    fahrenheit_1 = (celcius_1 * 9/5) + 32\n",
    "    print('The degree %.2f Celcius is equal to: %.2f Fahrenheit'\n",
    "    %(celcius_1, fahrenheit_1))\n",
    "    \n",
    "convertCelcius()"
   ]
  },
  {
   "cell_type": "code",
   "execution_count": 14,
   "id": "0aa9ae3f",
   "metadata": {},
   "outputs": [
    {
     "name": "stdout",
     "output_type": "stream",
     "text": [
      "Temperature value in degree Fahrenheit: -4\n",
      "The degree -4.00 Fahrenheit is equal to: -20.00 Celcius\n"
     ]
    }
   ],
   "source": [
    "def convertFahrenheit():\n",
    "    \"\"\"Convert Between °C and °F. Convert temperatures from one system to another.\n",
    "-Create a print statement to convert 18.5° C to °F.\n",
    "-Create a print statement to convert -4° F to °C.\"\"\"\n",
    "    fahrenheit_2 = float(input(\"Temperature value in degree Fahrenheit: \"))\n",
    "    celcius_2 = (fahrenheit_2 - 32) * 5/9\n",
    "    print('The degree %.2f Fahrenheit is equal to: %.2f Celcius'\n",
    "     %(fahrenheit_2, celcius_2))\n",
    "    \n",
    "convertFahrenheit()"
   ]
  }
 ],
 "metadata": {
  "kernelspec": {
   "display_name": "Python 3",
   "language": "python",
   "name": "python3"
  },
  "language_info": {
   "codemirror_mode": {
    "name": "ipython",
    "version": 3
   },
   "file_extension": ".py",
   "mimetype": "text/x-python",
   "name": "python",
   "nbconvert_exporter": "python",
   "pygments_lexer": "ipython3",
   "version": "3.8.8"
  }
 },
 "nbformat": 4,
 "nbformat_minor": 5
}
